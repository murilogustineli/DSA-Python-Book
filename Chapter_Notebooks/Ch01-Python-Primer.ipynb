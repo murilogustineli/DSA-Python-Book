{
 "cells": [
  {
   "cell_type": "markdown",
   "id": "8d38fc7e-86fc-4ca8-bad7-8892d90ca282",
   "metadata": {},
   "source": [
    "# Data Structures and Algorithms\n",
    "## Chapter 1 - Python Primer"
   ]
  },
  {
   "cell_type": "code",
   "execution_count": 1,
   "id": "9bcd1d29-f1bf-43c5-bb81-46f783dc1a37",
   "metadata": {},
   "outputs": [
    {
     "name": "stdout",
     "output_type": "stream",
     "text": [
      "[1, 2, 4, 5, 10, 20, 25, 50, 100]\n"
     ]
    }
   ],
   "source": [
    "def factors(n):\n",
    "    for k in range(1, n+1):\n",
    "        if n%k == 0:\n",
    "            yield k\n",
    "            \n",
    "print(list(factors(100)))"
   ]
  },
  {
   "cell_type": "code",
   "execution_count": 2,
   "id": "67844648-9c57-4733-90e7-994843034b70",
   "metadata": {},
   "outputs": [
    {
     "data": {
      "text/plain": [
       "[0, 1, 1, 2, 3, 5, 8, 13]"
      ]
     },
     "execution_count": 2,
     "metadata": {},
     "output_type": "execute_result"
    }
   ],
   "source": [
    "def fib(n):\n",
    "    i, a, b = 0, 0, 1\n",
    "    while i < n:\n",
    "        yield a\n",
    "        a, b = b, a + b\n",
    "        i += 1\n",
    "        \n",
    "        \n",
    "list(fib(8))"
   ]
  },
  {
   "cell_type": "code",
   "execution_count": 3,
   "id": "bad505d4-223f-45f2-8f21-0adce35b4d0f",
   "metadata": {},
   "outputs": [
    {
     "name": "stdout",
     "output_type": "stream",
     "text": [
      "[[1, 3], [1, 5], [1, 7], [1, 9], [3, 5], [3, 7], [3, 9], [5, 7], [5, 9], [7, 9]]\n",
      "Not found\n"
     ]
    }
   ],
   "source": [
    "# Naive approach: check every possible combination. O(n^2)\n",
    "def oddProductNaive(array):\n",
    "    result = []\n",
    "    for i in range(len(array)):\n",
    "        for j in range(i+1, len(array)):\n",
    "            if (array[i] * array[j]) % 2 == 1:\n",
    "                result.append([array[i], array[j]])\n",
    "    return result\n",
    "                \n",
    "\n",
    "# Faster approach: any two odd numbers produce an odd product. O(n)\n",
    "def oddProduct(array):\n",
    "    pairs = []\n",
    "    for n in range(1, len(array)):\n",
    "        if (array[n] * array[n - 1]) % 2 == 1:\n",
    "            pairs.append([array[n-1], array[n]])\n",
    "    \n",
    "    if pairs:\n",
    "        return pairs\n",
    "    else:\n",
    "        return 'Not found'\n",
    "    \n",
    "    \n",
    "array = [1, 2, 3, 4, 5, 6, 7, 8, 9]\n",
    "print(oddProductNaive(array))\n",
    "print(oddProduct(array))"
   ]
  },
  {
   "cell_type": "code",
   "execution_count": 4,
   "id": "c53d3f35-70af-4d97-8998-d862e6ed03d2",
   "metadata": {},
   "outputs": [],
   "source": [
    "def plusOne(digits):\n",
    "    string = ''\n",
    "    for i in digits:\n",
    "        string += str(i)\n",
    "\n",
    "    s = str(int(''.join(string)) + 1)\n",
    "    string = str(int(string) + int('1'))\n",
    "\n",
    "    return [int(i) for i in str(string)]"
   ]
  },
  {
   "cell_type": "code",
   "execution_count": 5,
   "id": "5cbc4ec4-bf5c-4c58-ab07-27cb1276b10f",
   "metadata": {},
   "outputs": [
    {
     "name": "stdout",
     "output_type": "stream",
     "text": [
      "[1, 2, 4]\n",
      "[4, 3, 2, 2]\n",
      "[1, 0]\n"
     ]
    }
   ],
   "source": [
    "def main():\n",
    "    test_cases = [\n",
    "        [1, 2, 3],\n",
    "        [4, 3, 2, 1],\n",
    "        [9]\n",
    "    ]\n",
    "    for nums in test_cases:\n",
    "        print(plusOne(nums))\n",
    "\n",
    "\n",
    "if __name__ == '__main__':\n",
    "    main()"
   ]
  },
  {
   "cell_type": "code",
   "execution_count": 6,
   "id": "989b568f-5064-4aa3-ba7a-22937826121e",
   "metadata": {},
   "outputs": [],
   "source": [
    "def plusOneComprehension(digits):\n",
    "    # Converting integers to strings\n",
    "    string = [str(i) for i in digits]\n",
    "    # Adding 1 to the total number\n",
    "    add = str(int(''.join(string)) + 1)\n",
    "    # Return list of integers\n",
    "    return [int(i) for i in add]"
   ]
  },
  {
   "cell_type": "code",
   "execution_count": 7,
   "id": "f61eb0ca-ad61-47a1-bc3d-6a16fa1f6b92",
   "metadata": {},
   "outputs": [
    {
     "name": "stdout",
     "output_type": "stream",
     "text": [
      "[1, 2, 4]\n",
      "[4, 3, 2, 2]\n",
      "[1, 0]\n"
     ]
    }
   ],
   "source": [
    "def main():\n",
    "    test_cases = [\n",
    "        [1, 2, 3],\n",
    "        [4, 3, 2, 1],\n",
    "        [9]\n",
    "    ]\n",
    "    for nums in test_cases:\n",
    "        print(plusOneComprehension(nums))\n",
    "\n",
    "\n",
    "if __name__ == '__main__':\n",
    "    main()"
   ]
  },
  {
   "cell_type": "code",
   "execution_count": 8,
   "id": "1aed3e1b-be6c-442b-bf41-4ffaf00b7104",
   "metadata": {},
   "outputs": [
    {
     "name": "stdout",
     "output_type": "stream",
     "text": [
      "cache: [1, 0, 0, 0, 0, 0]\n",
      "1 [1, 1, 0, 0, 0, 0]\n",
      "2 [1, 1, 1, 0, 0, 0]\n",
      "3 [1, 1, 1, 2, 0, 0]\n",
      "4 [1, 1, 1, 2, 3, 0]\n",
      "5 [1, 1, 1, 2, 3, 5]\n"
     ]
    },
    {
     "data": {
      "text/plain": [
       "5"
      ]
     },
     "execution_count": 8,
     "metadata": {},
     "output_type": "execute_result"
    }
   ],
   "source": [
    "# Staircase problem - not in the book\n",
    "def staircase(n, X):\n",
    "    cache = [0 for _ in range(n + 1)]\n",
    "    cache[0] = 1\n",
    "    print('cache:', cache)\n",
    "    \n",
    "    for i in range(1, n + 1):\n",
    "        cache[i] += sum([cache[i - x] for x in X if i - x >= 0])\n",
    "        print(i, cache)\n",
    "    return cache[n]\n",
    "\n",
    "n = 5 # steps\n",
    "X = [1, 3, 5] # ways we can go over all the steps\n",
    "staircase(n, X)"
   ]
  },
  {
   "cell_type": "code",
   "execution_count": 9,
   "id": "0c8e7075-a82e-4267-9b68-a80a4e208d76",
   "metadata": {},
   "outputs": [
    {
     "name": "stdout",
     "output_type": "stream",
     "text": [
      "cache: [1, 0, 0, 0, 0, 0]\n",
      "1 [1, 1, 0, 0, 0, 0]\n",
      "2 [1, 1, 1, 0, 0, 0]\n",
      "3 [1, 1, 1, 2, 0, 0]\n",
      "4 [1, 1, 1, 2, 3, 0]\n",
      "5 [1, 1, 1, 2, 3, 5]\n"
     ]
    },
    {
     "data": {
      "text/plain": [
       "5"
      ]
     },
     "execution_count": 9,
     "metadata": {},
     "output_type": "execute_result"
    }
   ],
   "source": [
    "def staircase(n, X):\n",
    "    cache = [0 for _ in range(n + 1)]\n",
    "    cache[0] = 1\n",
    "    print('cache:', cache)\n",
    "    \n",
    "    # For loop without list comprehension\n",
    "    for i in range(1, n + 1):\n",
    "        for x in X:\n",
    "            if i - x >= 0:\n",
    "                cache[i] += cache[i - x]\n",
    "        print(i, cache)\n",
    "    return cache[n]\n",
    "\n",
    "n = 5 # steps\n",
    "X = [1, 3, 5] # ways we can go over all the steps\n",
    "staircase(n, X)"
   ]
  },
  {
   "cell_type": "code",
   "execution_count": 10,
   "id": "263f36b8-5932-4063-bdba-5a5584f2ef88",
   "metadata": {},
   "outputs": [
    {
     "name": "stdout",
     "output_type": "stream",
     "text": [
      "1, 2, 3, 4, 5, 6, 7, 8, 9, 10, 11, 12, 13, 14, 15, 16, 17, 18, 19, 20, 21, 22, 23, 24, 25, 26\n"
     ]
    }
   ],
   "source": [
    "import random\n",
    "\n",
    "# Random number between 20 and 30\n",
    "n = random.randint(20, 30)\n",
    "\n",
    "\n",
    "# Function to create a list from 1 to n\n",
    "def print_func(x):\n",
    "    lst = []\n",
    "    for i in range(1, x+1):\n",
    "        lst.append(i)\n",
    "    return lst\n",
    "\n",
    "# Assign function to variable and print results\n",
    "output = print_func(n)\n",
    "print(*output, sep=', ')"
   ]
  },
  {
   "cell_type": "code",
   "execution_count": null,
   "id": "e654592a-9d77-446d-a35e-06cd581d0794",
   "metadata": {},
   "outputs": [],
   "source": []
  }
 ],
 "metadata": {
  "kernelspec": {
   "display_name": "Python 3",
   "language": "python",
   "name": "python3"
  },
  "language_info": {
   "codemirror_mode": {
    "name": "ipython",
    "version": 3
   },
   "file_extension": ".py",
   "mimetype": "text/x-python",
   "name": "python",
   "nbconvert_exporter": "python",
   "pygments_lexer": "ipython3",
   "version": "3.8.8"
  }
 },
 "nbformat": 4,
 "nbformat_minor": 5
}
