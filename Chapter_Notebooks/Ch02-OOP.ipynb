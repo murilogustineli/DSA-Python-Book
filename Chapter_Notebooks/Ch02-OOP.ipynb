{
 "cells": [
  {
   "cell_type": "markdown",
   "id": "bb5d599f-28a3-423a-9be3-fa8e10841b7a",
   "metadata": {},
   "source": [
    "# Data Structures and Algorithms\n",
    "## Chapter 2 - Object-Oriented Programming"
   ]
  },
  {
   "cell_type": "markdown",
   "id": "4b1fda3a-2e67-4cd0-871d-be9d4b5ba0e0",
   "metadata": {},
   "source": [
    "### Object-Oriented Design Goals\n",
    "The class definition specifies instance variables, also known as **data members**, that the object contains, as well as the methods, also known as **member functions**, that the object can execute.\n",
    "\n",
    "Software should be:\n",
    "- **Robust:** software capable of handling unexpected inputs that are not explicitly defined for its application. e.g., a program expecting a positive integer, but given a negative integer, the program should be able to recover from this error.\n",
    "- **Reusable:** the same code should be usable as a component of different systems in various applications.\n",
    "- **Adaptable:** software able to evolve over time in response to change in conditions in its environment.\n",
    "\n",
    "### Algorithm design patterns\n",
    "- Recursion\n",
    "- Amortization\n",
    "- Divide-and-conquer\n",
    "- Prune-and-search, aka, decrease-and-search\n",
    "- Brute force\n",
    "- Dynamic programming\n",
    "- The greedy method\n",
    "\n",
    "### Software engineering design patterns\n",
    "- Iterator\n",
    "- Adapter\n",
    "- Position\n",
    "- Composition\n",
    "- Template\n",
    "- Locator\n",
    "- Factory\n",
    "\n",
    "### Coding Style and Documentation\n",
    "- **Classes** should have a name that serves as a singular noun, and should be capitalized (e.g., Date rather than date or Dates). When using multiple words to form a class, they should follow the \"CamelCase\" convention (e.g., LinkedList, CreditCard)\n",
    "- **Functions** should be lowercase. If multiple words are combined, they should be separated by underscores (e.g., make_payment)\n",
    "- **Names** that identify an individual object (e.g., a parameter, instance, variable, or local variable) should be a lowercase noun (e.g., price). When using a single uppercase letter to designate the name of a data structure (such as tree T).\n",
    "- **Identifiers** that represent constant value are all capitalized letters with underscores separating words (e.g., MAX_SIZE)\n",
    "\n",
    "### Testing\n",
    "- The sequence has zero length (no elements)\n",
    "- The sequence has one element\n",
    "- All the elements of the sequence are the same\n",
    "- The sequence is already sorted\n",
    "- The sequence is reverse sorted\n",
    "\n",
    "### Debugging\n",
    "- Using print statements to track the values of variables during the execution of the program\n",
    "- Run the program with a debugger\n",
    "- Insert breakpoints within the code\n",
    "\n",
    "### Class Definition\n",
    "A **class** serves as the primary means for abstraction in object-oriented programming.\n",
    "\n",
    "Example of a class:\n",
    "\n",
    "|Class | Credit Card |\n",
    "| ---- | ----------- |\n",
    "| Fields | _customer, _bank, _account, _balance, _limit |\n",
    "| Behaviours | get_customer(), get_bank(), get_account(), make_payment(), get_balance(), get_limit(), charge(price) |\n"
   ]
  },
  {
   "cell_type": "code",
   "execution_count": 34,
   "id": "245cbd08-070a-4660-b29b-a1540be6ca55",
   "metadata": {},
   "outputs": [],
   "source": [
    "class CreditCard:\n",
    "    \"\"\"A consumer credit card.\"\"\"\n",
    "    \n",
    "    def __init__(self, customer, bank, acnt, limit):\n",
    "        \"\"\"Create a new credit card instance.\n",
    "        \n",
    "        The initial balance is zero.\n",
    "        \n",
    "        customer  the name of the customer (e.g., \"John Bowman\")\n",
    "        bank      the name of the bank (e.g., 'California Savings')\n",
    "        acnt      the account identifier (e.g., \"5391 0375 9387 5309\")\n",
    "        limit     credit limit (measured in dollars)\n",
    "        \"\"\"\n",
    "        self._customer = customer\n",
    "        self._bank = bank\n",
    "        self._account = acnt\n",
    "        self._limit = limit\n",
    "        self._balance = 0\n",
    "        \n",
    "    def get_customer(self):\n",
    "        \"\"\"Return name of the customer.\"\"\"\n",
    "        return self._customer\n",
    "    \n",
    "    def get_bank(self):\n",
    "        \"\"\"Return the bank's name.\"\"\"\n",
    "        return self._bank\n",
    "    \n",
    "    def get_account(self):\n",
    "        \"\"\"Return the card identifying number (typically stored as a string).\"\"\"\n",
    "        return self._account\n",
    "    \n",
    "    def get_limit(self):\n",
    "        \"\"\"Return current credit limit.\"\"\"\n",
    "        return self._limit\n",
    "    \n",
    "    def get_balance(self):\n",
    "        \"\"\"Return current balance.\"\"\"\n",
    "        return self._balance\n",
    "    \n",
    "    def charge(self, price):\n",
    "        \"\"\"Charge given price to the card, assuming sufficient credit limit.\n",
    "        \n",
    "        Return True if charge was processed; False if charge was denied\n",
    "        \"\"\"\n",
    "        if price + self._balance > self._limit:\n",
    "            return False\n",
    "        else:\n",
    "            self._balance += price\n",
    "            return True\n",
    "        \n",
    "    def make_payment(self, amount):\n",
    "        \"\"\"Process customer payment that reduces balance.\"\"\"\n",
    "        self._balance -= amount"
   ]
  },
  {
   "cell_type": "code",
   "execution_count": 35,
   "id": "2b8ae130-cbb8-47c9-b4d8-c924bf1b9bfe",
   "metadata": {},
   "outputs": [
    {
     "name": "stdout",
     "output_type": "stream",
     "text": [
      "Murilo G.\n",
      "1st Bank\n",
      "1234 2345 3456 4567\n",
      "2000\n",
      "0\n"
     ]
    }
   ],
   "source": [
    "cc = CreditCard(\"Murilo G.\", '1st Bank', '1234 2345 3456 4567', 2000)\n",
    "print(cc.get_customer())\n",
    "print(cc.get_bank())\n",
    "print(cc.get_account())\n",
    "print(cc.get_limit())\n",
    "print(cc.get_balance())"
   ]
  },
  {
   "cell_type": "code",
   "execution_count": 36,
   "id": "5ec54c9b-9f24-4759-89bc-c61193576400",
   "metadata": {},
   "outputs": [
    {
     "name": "stdout",
     "output_type": "stream",
     "text": [
      "True\n",
      "balance: 1000\n",
      "balance: 0\n"
     ]
    }
   ],
   "source": [
    "print(cc.charge(1000))\n",
    "print(f'balance: {cc.get_balance()}')\n",
    "cc.make_payment(1000)\n",
    "print(f'balance: {cc.get_balance()}')"
   ]
  },
  {
   "cell_type": "code",
   "execution_count": 37,
   "id": "781eea62-39ae-4cb6-99fe-45759196ec86",
   "metadata": {},
   "outputs": [
    {
     "name": "stdout",
     "output_type": "stream",
     "text": [
      "False\n",
      "balance: 0\n"
     ]
    }
   ],
   "source": [
    "print(cc.charge(3000))\n",
    "print(f'balance: {cc.get_balance()}')"
   ]
  },
  {
   "cell_type": "code",
   "execution_count": 39,
   "id": "bba6134f-e2c0-43ca-8abc-c48d744fb1eb",
   "metadata": {},
   "outputs": [
    {
     "name": "stdout",
     "output_type": "stream",
     "text": [
      "Customer = John Bowman\n",
      "Bank = California Savings\n",
      "Account = 5391 0375 9387 5309\n",
      "Limit = 2500\n",
      "Balance = 136\n",
      "New balance = 36\n",
      "\n",
      "Customer = John Bowman\n",
      "Bank = California Federal\n",
      "Account = 3485 0399 1954 3500\n",
      "Limit = 3500\n",
      "Balance = 272\n",
      "New balance = 172\n",
      "New balance = 72\n",
      "\n",
      "Customer = John Bowman\n",
      "Bank = California Finance\n",
      "Account = 5391 0375 9387 5309\n",
      "Limit = 5000\n",
      "Balance = 408\n",
      "New balance = 308\n",
      "New balance = 208\n",
      "New balance = 108\n",
      "New balance = 8\n",
      "\n"
     ]
    }
   ],
   "source": [
    "# Testing the Class\n",
    "if __name__ == '__main__':\n",
    "    wallet = []\n",
    "    wallet.append(CreditCard('John Bowman', 'California Savings', '5391 0375 9387 5309', 2500))\n",
    "    wallet.append(CreditCard('John Bowman', 'California Federal', '3485 0399 1954 3500', 3500))\n",
    "    wallet.append(CreditCard('John Bowman', 'California Finance', '5391 0375 9387 5309', 5000))\n",
    "    \n",
    "    for val in range(1, 17):\n",
    "        wallet[0].charge(val)\n",
    "        wallet[1].charge(2*val)\n",
    "        wallet[2].charge(3*val)\n",
    "        \n",
    "    for c in range(3):\n",
    "        print(f'Customer = {wallet[c].get_customer()}')\n",
    "        print(f'Bank = {wallet[c].get_bank()}')\n",
    "        print(f'Account = {wallet[c].get_account()}')\n",
    "        print(f'Limit = {wallet[c].get_limit()}')\n",
    "        print(f'Balance = {wallet[c].get_balance()}')\n",
    "        \n",
    "        while wallet[c].get_balance() > 100:\n",
    "            wallet[c].make_payment(100)\n",
    "            print(f'New balance = {wallet[c].get_balance()}')\n",
    "        print()"
   ]
  },
  {
   "cell_type": "code",
   "execution_count": null,
   "id": "3529dca4-e8cb-4db4-b2a1-3dbaa1aafe04",
   "metadata": {},
   "outputs": [],
   "source": []
  },
  {
   "cell_type": "code",
   "execution_count": null,
   "id": "3a236d9f-de86-414c-8f80-214e1df1e9e9",
   "metadata": {},
   "outputs": [],
   "source": []
  },
  {
   "cell_type": "code",
   "execution_count": null,
   "id": "71ebfa43-d79d-40c1-a4e9-f0a33bcd401b",
   "metadata": {},
   "outputs": [],
   "source": []
  },
  {
   "cell_type": "code",
   "execution_count": null,
   "id": "fff0304c-9b97-47df-83de-736585a48a31",
   "metadata": {},
   "outputs": [],
   "source": []
  }
 ],
 "metadata": {
  "kernelspec": {
   "display_name": "Python 3",
   "language": "python",
   "name": "python3"
  },
  "language_info": {
   "codemirror_mode": {
    "name": "ipython",
    "version": 3
   },
   "file_extension": ".py",
   "mimetype": "text/x-python",
   "name": "python",
   "nbconvert_exporter": "python",
   "pygments_lexer": "ipython3",
   "version": "3.8.8"
  }
 },
 "nbformat": 4,
 "nbformat_minor": 5
}
