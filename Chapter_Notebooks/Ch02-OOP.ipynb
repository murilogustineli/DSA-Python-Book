{
 "cells": [
  {
   "cell_type": "markdown",
   "id": "bb5d599f-28a3-423a-9be3-fa8e10841b7a",
   "metadata": {},
   "source": [
    "# Data Structures and Algorithms\n",
    "## Chapter 2 - Object-Oriented Programming"
   ]
  },
  {
   "cell_type": "markdown",
   "id": "4b1fda3a-2e67-4cd0-871d-be9d4b5ba0e0",
   "metadata": {},
   "source": [
    "### Object-Oriented Design Goals\n",
    "The class definition specifies instance variables, also known as **data members**, that the object contains, as well as the methods, also known as **member functions**, that the object can execute.\n",
    "\n",
    "Software should be:\n",
    "- **Robust:** software capable of handling unexpected inputs that are not explicitly defined for its application. e.g., a program expecting a positive integer, but given a negative integer, the program should be able to recover from this error.\n",
    "- **Reusable:** the same code should be usable as a component of different systems in various applications.\n",
    "- **Adaptable:** software able to evolve over time in response to change in conditions in its environment.\n",
    "\n",
    "### Algorithm design patterns\n",
    "- Recursion\n",
    "- Amortization\n",
    "- Divide-and-conquer\n",
    "- Prune-and-search, aka, decrease-and-search\n",
    "- Brute force\n",
    "- Dynamic programming\n",
    "- The greedy method\n",
    "\n",
    "### Software engineering design patterns\n",
    "- Iterator\n",
    "- Adapter\n",
    "- Position\n",
    "- Composition\n",
    "- Template\n",
    "- Locator\n",
    "- Factory\n",
    "\n",
    "### Coding Style and Documentation\n",
    "- **Classes** should have a name that serves as a singular noun, and should be capitalized (e.g., Date rather than date or Dates). When using multiple words to form a class, they should follow the \"CamelCase\" convention (e.g., LinkedList, CreditCard)\n",
    "- **Functions** should be lowercase. If multiple words are combined, they should be separated by underscores (e.g., make_payment)\n",
    "- **Names** that identify an individual object (e.g., a parameter, instance, variable, or local variable) should be a lowercase noun (e.g., price). When using a single uppercase letter to designate the name of a data structure (such as tree T).\n",
    "- **Identifiers** that represent constant value are all capitalized letters with underscores separating words (e.g., MAX_SIZE)\n",
    "\n",
    "### Testing\n",
    "- The sequence has zero length (no elements)\n",
    "- The sequence has one element\n",
    "- All the elements of the sequence are the same\n",
    "- The sequence is already sorted\n",
    "- The sequence is reverse sorted\n",
    "\n",
    "### Debugging\n",
    "- Using print statements to track the values of variables during the execution of the program\n",
    "- Run the program with a debugger\n",
    "- Insert breakpoints within the code\n",
    "\n",
    "### Class Definition\n",
    "A **class** serves as the primary means for abstraction in object-oriented programming.\n",
    "\n",
    "Example of a class:\n",
    "\n",
    "|Class | Credit Card |\n",
    "| ---- | ----------- |\n",
    "| Fields | _customer, _bank, _account, _balance, _limit |\n",
    "| Behaviours | get_customer(), get_bank(), get_account(), make_payment(), get_balance(), get_limit(), charge(price) |\n"
   ]
  },
  {
   "cell_type": "code",
   "execution_count": 1,
   "id": "245cbd08-070a-4660-b29b-a1540be6ca55",
   "metadata": {},
   "outputs": [],
   "source": [
    "class CreditCard:\n",
    "    \"\"\"A consumer credit card.\"\"\"\n",
    "    \n",
    "    def __init__(self, customer, bank, acnt, limit):\n",
    "        \"\"\"Create a new credit card instance.\n",
    "        \n",
    "        The initial balance is zero.\n",
    "        \n",
    "        customer  the name of the customer (e.g., \"John Bowman\")\n",
    "        bank      the name of the bank (e.g., 'California Savings')\n",
    "        acnt      the account identifier (e.g., \"5391 0375 9387 5309\")\n",
    "        limit     credit limit (measured in dollars)\n",
    "        \"\"\"\n",
    "        self._customer = customer\n",
    "        self._bank = bank\n",
    "        self._account = acnt\n",
    "        self._limit = limit\n",
    "        self._balance = 0\n",
    "        \n",
    "    def get_customer(self):\n",
    "        \"\"\"Return name of the customer.\"\"\"\n",
    "        return self._customer\n",
    "    \n",
    "    def get_bank(self):\n",
    "        \"\"\"Return the bank's name.\"\"\"\n",
    "        return self._bank\n",
    "    \n",
    "    def get_account(self):\n",
    "        \"\"\"Return the card identifying number (typically stored as a string).\"\"\"\n",
    "        return self._account\n",
    "    \n",
    "    def get_limit(self):\n",
    "        \"\"\"Return current credit limit.\"\"\"\n",
    "        return self._limit\n",
    "    \n",
    "    def get_balance(self):\n",
    "        \"\"\"Return current balance.\"\"\"\n",
    "        return self._balance\n",
    "    \n",
    "    def charge(self, price):\n",
    "        \"\"\"Charge given price to the card, assuming sufficient credit limit.\n",
    "        \n",
    "        Return True if charge was processed; False if charge was denied\n",
    "        \"\"\"\n",
    "        if price + self._balance > self._limit:\n",
    "            return False\n",
    "        else:\n",
    "            self._balance += price\n",
    "            return True\n",
    "        \n",
    "    def make_payment(self, amount):\n",
    "        \"\"\"Process customer payment that reduces balance.\"\"\"\n",
    "        self._balance -= amount"
   ]
  },
  {
   "cell_type": "code",
   "execution_count": 2,
   "id": "2b8ae130-cbb8-47c9-b4d8-c924bf1b9bfe",
   "metadata": {},
   "outputs": [
    {
     "name": "stdout",
     "output_type": "stream",
     "text": [
      "Murilo G.\n",
      "1st Bank\n",
      "1234 2345 3456 4567\n",
      "2000\n",
      "0\n"
     ]
    }
   ],
   "source": [
    "cc = CreditCard(\"Murilo G.\", '1st Bank', '1234 2345 3456 4567', 2000)\n",
    "print(cc.get_customer())\n",
    "print(cc.get_bank())\n",
    "print(cc.get_account())\n",
    "print(cc.get_limit())\n",
    "print(cc.get_balance())"
   ]
  },
  {
   "cell_type": "code",
   "execution_count": 3,
   "id": "5ec54c9b-9f24-4759-89bc-c61193576400",
   "metadata": {},
   "outputs": [
    {
     "name": "stdout",
     "output_type": "stream",
     "text": [
      "True\n",
      "balance: 1000\n",
      "balance: 0\n"
     ]
    }
   ],
   "source": [
    "print(cc.charge(1000))\n",
    "print(f'balance: {cc.get_balance()}')\n",
    "cc.make_payment(1000)\n",
    "print(f'balance: {cc.get_balance()}')"
   ]
  },
  {
   "cell_type": "code",
   "execution_count": 4,
   "id": "781eea62-39ae-4cb6-99fe-45759196ec86",
   "metadata": {},
   "outputs": [
    {
     "name": "stdout",
     "output_type": "stream",
     "text": [
      "False\n",
      "balance: 0\n"
     ]
    }
   ],
   "source": [
    "print(cc.charge(3000))\n",
    "print(f'balance: {cc.get_balance()}')"
   ]
  },
  {
   "cell_type": "code",
   "execution_count": 5,
   "id": "bba6134f-e2c0-43ca-8abc-c48d744fb1eb",
   "metadata": {},
   "outputs": [
    {
     "name": "stdout",
     "output_type": "stream",
     "text": [
      "Customer = John Bowman\n",
      "Bank = California Savings\n",
      "Account = 5391 0375 9387 5309\n",
      "Limit = 2500\n",
      "Balance = 136\n",
      "New balance = 36\n",
      "\n",
      "Customer = John Bowman\n",
      "Bank = California Federal\n",
      "Account = 3485 0399 1954 3500\n",
      "Limit = 3500\n",
      "Balance = 272\n",
      "New balance = 172\n",
      "New balance = 72\n",
      "\n",
      "Customer = John Bowman\n",
      "Bank = California Finance\n",
      "Account = 5391 0375 9387 5309\n",
      "Limit = 5000\n",
      "Balance = 408\n",
      "New balance = 308\n",
      "New balance = 208\n",
      "New balance = 108\n",
      "New balance = 8\n",
      "\n"
     ]
    }
   ],
   "source": [
    "# Testing the Class\n",
    "if __name__ == '__main__':\n",
    "    wallet = []\n",
    "    wallet.append(CreditCard('John Bowman', 'California Savings', '5391 0375 9387 5309', 2500))\n",
    "    wallet.append(CreditCard('John Bowman', 'California Federal', '3485 0399 1954 3500', 3500))\n",
    "    wallet.append(CreditCard('John Bowman', 'California Finance', '5391 0375 9387 5309', 5000))\n",
    "    \n",
    "    for val in range(1, 17):\n",
    "        wallet[0].charge(val)\n",
    "        wallet[1].charge(2*val)\n",
    "        wallet[2].charge(3*val)\n",
    "        \n",
    "    for c in range(3):\n",
    "        print(f'Customer = {wallet[c].get_customer()}')\n",
    "        print(f'Bank = {wallet[c].get_bank()}')\n",
    "        print(f'Account = {wallet[c].get_account()}')\n",
    "        print(f'Limit = {wallet[c].get_limit()}')\n",
    "        print(f'Balance = {wallet[c].get_balance()}')\n",
    "        \n",
    "        while wallet[c].get_balance() > 100:\n",
    "            wallet[c].make_payment(100)\n",
    "            print(f'New balance = {wallet[c].get_balance()}')\n",
    "        print()"
   ]
  },
  {
   "cell_type": "markdown",
   "id": "f6b3d5cb-a730-41af-a947-1f14435de481",
   "metadata": {},
   "source": [
    "### Example: Multidimensional Vector Class"
   ]
  },
  {
   "cell_type": "code",
   "execution_count": 6,
   "id": "3a236d9f-de86-414c-8f80-214e1df1e9e9",
   "metadata": {},
   "outputs": [],
   "source": [
    "class Vector:\n",
    "    \"\"\"Represent a vector in a multidimensional space.\"\"\"\n",
    "    \n",
    "    def __init__(self, d):\n",
    "        \"\"\"Create d-dimensional vector of zeros.\"\"\"\n",
    "        self._coords = [0] * d\n",
    "    \n",
    "    def __len__(self):\n",
    "        \"\"\"Return the dimension of the vector.\"\"\"\n",
    "        return len(self._coords)\n",
    "    \n",
    "    def __getitem__(self, j):\n",
    "        \"\"\"Return jth coordinate of vector.\"\"\"\n",
    "        return self._coords[j]\n",
    "    \n",
    "    def __setitem__(self, j, val):\n",
    "        \"\"\"Set jth coordinate of vector to given value.\"\"\"\n",
    "        self._coords[j] = val\n",
    "    \n",
    "    def __add__(self, other):\n",
    "        \"\"\"Return sum of two vectors.\"\"\"\n",
    "        if len(self) != len(other):           # relies on __len__ method\n",
    "            raise ValueError('dimensions must agree')\n",
    "        result = Vector(len(self))            # start with vector of zeros\n",
    "        for j in range(len(self)):\n",
    "            result[j] = self[j] + other[j]\n",
    "        return result\n",
    "    \n",
    "    def __eq__(self, other):\n",
    "        \"\"\"Return True if vector has same coordinates as other.\"\"\"\n",
    "        return self._coords == other._coords\n",
    "    \n",
    "    def __ne__(self, other):\n",
    "        \"\"\"Return True if vector differs from other.\"\"\"\n",
    "        return not self == other              # rely on existing __eq__ definition\n",
    "    \n",
    "    def __str__(self):\n",
    "        \"\"\"Produce string representation of vector.\"\"\"\n",
    "        return '<' + str(self._coords)[1:-1] + '>'   # adapt list representation"
   ]
  },
  {
   "cell_type": "code",
   "execution_count": 7,
   "id": "71ebfa43-d79d-40c1-a4e9-f0a33bcd401b",
   "metadata": {},
   "outputs": [
    {
     "name": "stdout",
     "output_type": "stream",
     "text": [
      "45\n",
      "<0, 46, 0, 0, 90>\n",
      "68\n"
     ]
    }
   ],
   "source": [
    "v = Vector(5)     # construct five-dimensional <0, 0, 0, 0, 0>\n",
    "v[1] = 23         # <0, 23, 0, 0, 0> (based on use of __setitem__)\n",
    "v[-1] = 45        # <0, 23, 0, 0, 45> (also via __setitem__)\n",
    "print(v[4])       # print 45 (via __getitem__)\n",
    "u = v + v         # <0, 46, 0, 0, 90> (via __add__)\n",
    "print(u)          # print <0, 46, 0, 0, 90>\n",
    "total = 0\n",
    "for entry in v:   # implicit iteration via __len__ and __getitem__\n",
    "    total += entry\n",
    "print(total)"
   ]
  },
  {
   "cell_type": "code",
   "execution_count": 12,
   "id": "eb298d5d-ffac-4ba1-be9f-b9ffc6fccbbc",
   "metadata": {},
   "outputs": [
    {
     "name": "stdout",
     "output_type": "stream",
     "text": [
      "<0, 23, 0, 0, 45>\n",
      "<5, 26, 10, -2, 46>\n",
      "5\n"
     ]
    }
   ],
   "source": [
    "print(v)\n",
    "u = v + [5, 3, 10, -2, 1]\n",
    "print(u)\n",
    "print(len(v))"
   ]
  },
  {
   "cell_type": "markdown",
   "id": "90246fbe-8f14-4eb6-a94d-a70f61bf9a3b",
   "metadata": {},
   "source": [
    "### Iterators"
   ]
  },
  {
   "cell_type": "code",
   "execution_count": 62,
   "id": "dac2611e-f2d6-4dce-858b-5a3b79b2710d",
   "metadata": {},
   "outputs": [],
   "source": [
    "class SequenceIterator:\n",
    "    \"\"\"An iterator for any of Python's sequence types.\"\"\"\n",
    "    \n",
    "    def __init__(self, sequence):\n",
    "        \"\"\"Create an iterator for the given sequence.\"\"\"\n",
    "        self._seq = sequence             # keep a reference to the underlying data \n",
    "        self._k = -1                     # will increment to 0 on first call to next\n",
    "        \n",
    "    def __next__(self):\n",
    "        \"\"\"Return the next element, or else raise StopIteration error.\"\"\"\n",
    "        self._k += 1                     # advance to next index\n",
    "        if self._k < len(self._seq):\n",
    "            return (self._seq[self._k])  # return the data element\n",
    "        else:\n",
    "            raise StopIteration()        # there are not more elements\n",
    "    \n",
    "    def __iter__(self):\n",
    "        \"\"\"By convention, an iterator must return itself as an iterator.\"\"\"\n",
    "        return self"
   ]
  },
  {
   "cell_type": "code",
   "execution_count": 63,
   "id": "473ee14f-9f38-40e9-8531-9fe17d98054c",
   "metadata": {},
   "outputs": [],
   "source": [
    "array = [1,2,3,4,5]\n",
    "seq = SequenceIterator(array)"
   ]
  },
  {
   "cell_type": "code",
   "execution_count": 64,
   "id": "6ca6c92d-56d1-47f3-9c01-b7c12b450cf1",
   "metadata": {},
   "outputs": [
    {
     "name": "stdout",
     "output_type": "stream",
     "text": [
      "1\n",
      "2\n",
      "3\n",
      "4\n"
     ]
    }
   ],
   "source": [
    "print(next(seq))\n",
    "print(next(seq))\n",
    "print(next(seq))\n",
    "print(next(seq))"
   ]
  },
  {
   "cell_type": "markdown",
   "id": "b38afc69-ac09-4fd1-885f-227d30014b90",
   "metadata": {},
   "source": [
    "### Example: Range Class"
   ]
  },
  {
   "cell_type": "code",
   "execution_count": 65,
   "id": "7995c0dc-3b11-4671-be63-5fd1c6643de5",
   "metadata": {},
   "outputs": [],
   "source": [
    "class Range:\n",
    "    \"\"\"A class that mimic's the built-in range class\"\"\"\n",
    "    \n",
    "    def __init__(self, start, stop=None, step=1):\n",
    "        \"\"\"Initialize a Range instance\n",
    "        \n",
    "        Semantics is similar to built-in range class.        \n",
    "        \"\"\"\n",
    "        if step == 0:\n",
    "            raise ValueError('step cannot be 0')\n",
    "            \n",
    "        if stop is None:              # special case of range(n)\n",
    "            start, stop = 0, start    # should be treated as if range(0, n)\n",
    "        \n",
    "        # calculate the effective length once\n",
    "        self._length = max(0, (stop - start + step - 1) // step)\n",
    "        \n",
    "        # need knowledge of start and step (but not stop) to support __getitem__\n",
    "        self._start = start\n",
    "        self._step = step\n",
    "        \n",
    "    def __len__(self):\n",
    "        \"\"\"Return number of entries in the range.\"\"\"\n",
    "        return self._length\n",
    "    \n",
    "    def __getitem__(self, k):\n",
    "        \"\"\"Return entry at index k (using standard interpretation if negative).\"\"\"\n",
    "        if k < 0:\n",
    "            k += len(self)    # attempt to convert negative index\n",
    "            \n",
    "        if not 0 <= k < self._length:\n",
    "            raise IndexError('index out of range')\n",
    "            \n",
    "        return self._start + k * self._step"
   ]
  },
  {
   "cell_type": "code",
   "execution_count": 76,
   "id": "cad9bb89-fc4e-467c-835c-474008b8185a",
   "metadata": {},
   "outputs": [],
   "source": [
    "# Built-in range class\n",
    "r = range(8, 140, 5)"
   ]
  },
  {
   "cell_type": "code",
   "execution_count": 78,
   "id": "3eb1480c-39e3-4944-aed1-796cddfd3856",
   "metadata": {},
   "outputs": [
    {
     "name": "stdout",
     "output_type": "stream",
     "text": [
      "27\n",
      "83\n",
      "8\n"
     ]
    }
   ],
   "source": [
    "print(len(r))\n",
    "print(r[15])\n",
    "print(r[0])"
   ]
  },
  {
   "cell_type": "code",
   "execution_count": 79,
   "id": "2a582dda-3b74-46a3-804a-ffd15ad1f170",
   "metadata": {},
   "outputs": [],
   "source": [
    "# Create an instance of Range class\n",
    "r = Range(8, 140, 5)"
   ]
  },
  {
   "cell_type": "code",
   "execution_count": 80,
   "id": "edb3c366-0459-42e2-b832-1c20569453a9",
   "metadata": {},
   "outputs": [
    {
     "name": "stdout",
     "output_type": "stream",
     "text": [
      "27\n",
      "83\n",
      "8\n"
     ]
    }
   ],
   "source": [
    "print(len(r))\n",
    "print(r[15])\n",
    "print(r[0])"
   ]
  },
  {
   "cell_type": "code",
   "execution_count": null,
   "id": "f1534115-86b2-4465-813f-901e4e761592",
   "metadata": {},
   "outputs": [],
   "source": []
  },
  {
   "cell_type": "code",
   "execution_count": null,
   "id": "af761d7b-0227-4504-8ec0-7e2ceed81ff3",
   "metadata": {},
   "outputs": [],
   "source": []
  }
 ],
 "metadata": {
  "kernelspec": {
   "display_name": "Python 3",
   "language": "python",
   "name": "python3"
  },
  "language_info": {
   "codemirror_mode": {
    "name": "ipython",
    "version": 3
   },
   "file_extension": ".py",
   "mimetype": "text/x-python",
   "name": "python",
   "nbconvert_exporter": "python",
   "pygments_lexer": "ipython3",
   "version": "3.8.8"
  }
 },
 "nbformat": 4,
 "nbformat_minor": 5
}
